{
 "cells": [
  {
   "cell_type": "markdown",
   "metadata": {},
   "source": [
    "# Lab 4\n",
    "\n",
    "[![Open In Colab](https://colab.research.google.com/assets/colab-badge.svg)](https://colab.research.google.com/github/giswqs/geog-312/blob/main/book/labs/lab_04.ipynb)\n",
    "\n",
    "This lab will help you solidify your understanding of working with `NumPy`, `Pandas`, and `GeoPandas` for geospatial data analysis. Through these exercises, you will perform data manipulation, spatial analysis, and visualizations by combining these powerful libraries."
   ]
  },
  {
   "cell_type": "markdown",
   "metadata": {},
   "source": [
    "## Exercise 1: NumPy Array Operations and Geospatial Coordinates\n",
    "\n",
    "In this exercise, you will work with NumPy arrays representing geospatial coordinates (latitude and longitude) and perform basic array operations.\n",
    "\n",
    "1. Create a 2D NumPy array containing the latitude and longitude of the following cities: Tokyo (35.6895, 139.6917), New York (40.7128, -74.0060), London (51.5074, -0.1278), and Paris (48.8566, 2.3522).\n",
    "2. Convert the latitude and longitude values from degrees to radians using np.radians().\n",
    "3. Calculate the element-wise difference between Tokyo and the other cities' latitude and longitude in radians."
   ]
  },
  {
   "cell_type": "code",
   "execution_count": 9,
   "metadata": {},
   "outputs": [
    {
     "name": "stdout",
     "output_type": "stream",
     "text": [
      "[ 35.6895 139.6917]\n",
      "[ 40.7128 -74.006 ]\n",
      "[51.5074 -0.1278]\n",
      "[48.8566  2.3522]\n",
      "[array([0.62289928, 2.4380801 ]), array([ 0.71057241, -1.29164837]), array([ 0.89897372, -0.00223053]), array([0.85270853, 0.04105363])]\n",
      "Difference between [0.62289928 2.4380801 ] and [0.62289928 2.4380801 ] is [0. 0.]\n",
      "Difference between [0.62289928 2.4380801 ] and [ 0.71057241 -1.29164837] is [0.08767312 3.72972847]\n",
      "Difference between [0.62289928 2.4380801 ] and [ 0.89897372 -0.00223053] is [0.27607444 2.44031063]\n",
      "Difference between [0.62289928 2.4380801 ] and [0.85270853 0.04105363] is [0.22980925 2.39702647]\n"
     ]
    }
   ],
   "source": [
    "import numpy as np\n",
    "\n",
    "# 1\n",
    "arr = np.array([(35.6895, 139.6917), (40.7128, -74.0060), (51.5074, -0.1278), (48.8566, 2.3522)])\n",
    "for i in arr:\n",
    "    print(i)\n",
    "\n",
    "# 2\n",
    "rad = []\n",
    "for i in arr:\n",
    "    rad.append(np.radians(i))\n",
    "print(rad)\n",
    "\n",
    "# 3\n",
    "for i in rad:\n",
    "    print(f'Difference between {rad[0]} and {i} is {abs(rad[0] - i)}')\n",
    "\n"
   ]
  },
  {
   "cell_type": "markdown",
   "metadata": {},
   "source": [
    "## Exercise 2: Pandas DataFrame Operations with Geospatial Data\n",
    "\n",
    "In this exercise, you'll use Pandas to load and manipulate a dataset containing city population data, and then calculate and visualize statistics.\n",
    "\n",
    "1. Load the world cities dataset from this URL using Pandas: https://github.com/opengeos/datasets/releases/download/world/world_cities.csv\n",
    "2. Display the first 5 rows and check for missing values.\n",
    "3. Filter the dataset to only include cities with a population greater than 1 million.\n",
    "4. Group the cities by their country and calculate the total population for each country.\n",
    "5. Sort the cities by population in descending order and display the top 10 cities."
   ]
  },
  {
   "cell_type": "code",
   "execution_count": 20,
   "metadata": {},
   "outputs": [
    {
     "name": "stdout",
     "output_type": "stream",
     "text": [
      "country\n",
      "AFG     3277000\n",
      "AGO     6272900\n",
      "ARE     1379000\n",
      "ARG    15450000\n",
      "ARM     1102000\n",
      "Name: population, dtype: int64\n",
      "        id          name country  latitude  longitude  population\n",
      "1239  1240         Tokyo     JPN  35.68502  139.75141    35676000\n",
      "1224  1225      New York     USA  40.74998  -73.98002    19040000\n",
      "1230  1231   Mexico City     MEX  19.44244  -99.13099    19028000\n",
      "1240  1241        Mumbai     IND  19.01699   72.85699    18978000\n",
      "1245  1246     Sao Paulo     BRA -23.55868  -46.62502    18845000\n",
      "1148  1149         Delhi     IND  28.66999   77.23000    15926000\n",
      "1238  1239      Shanghai     CHN  31.21645  121.43650    14987000\n",
      "1243  1244       Kolkata     IND  22.49497   88.32468    14787000\n",
      "1175  1176         Dhaka     BGD  23.72306   90.40858    12797394\n",
      "1217  1218  Buenos Aires     ARG -34.60250  -58.39753    12795000\n"
     ]
    }
   ],
   "source": [
    "import pandas as pd\n",
    "\n",
    "#1\n",
    "csv = pd.read_csv('https://github.com/opengeos/datasets/releases/download/world/world_cities.csv')\n",
    "\n",
    "#2\n",
    "csv.head()\n",
    "\n",
    "#3\n",
    "big_cities = csv[csv['population'] > 1000000]\n",
    "\n",
    "big_cities.head()\n",
    "\n",
    "#4\n",
    "grouped = big_cities.groupby(\"country\")[\"population\"].sum()\n",
    "print(grouped.head())\n",
    "\n",
    "#5\n",
    "print(big_cities.sort_values(by='population', ascending=False).head(10))\n"
   ]
  },
  {
   "cell_type": "markdown",
   "metadata": {},
   "source": [
    "## Exercise 3: Creating and Manipulating GeoDataFrames with GeoPandas\n",
    "\n",
    "This exercise focuses on creating and manipulating GeoDataFrames, performing spatial operations, and visualizing the data.\n",
    "\n",
    "1. Load the New York City building dataset from the GeoJSON file using GeoPandas: https://github.com/opengeos/datasets/releases/download/places/nyc_buildings.geojson\n",
    "2. Create a plot of the building footprints and color them based on the building height (use the `height_MS` column).\n",
    "3. Create an interactive map of the building footprints and color them based on the building height (use the `height_MS` column).\n",
    "4. Calculate the average building height (use the `height_MS` column).\n",
    "5. Select buildings with a height greater than the average height.\n",
    "6. Save the GeoDataFrame to a new GeoJSON file."
   ]
  },
  {
   "cell_type": "code",
   "execution_count": 43,
   "metadata": {},
   "outputs": [
    {
     "name": "stdout",
     "output_type": "stream",
     "text": [
      "       fid  height_MS  height_FM  height_avg  SQMETERS STATEFP      NAME  \\\n",
      "0        2      15.05      23.30       19.18   6365.72      36  New York   \n",
      "1        4      23.62      46.18       34.90   3287.84      36  New York   \n",
      "2        5      19.98     109.60       64.79   2011.21      36  New York   \n",
      "3        9      18.50      18.18       18.34   3110.32      36  New York   \n",
      "4       34      21.53      32.84       27.18   5240.89      36  New York   \n",
      "...    ...        ...        ...         ...       ...     ...       ...   \n",
      "1201  9764      26.54      22.30       24.42    696.24      36  New York   \n",
      "1202  9765      10.44      16.53       13.48   2859.96      36  New York   \n",
      "1203  9766      10.44      13.87       12.16   2859.96      36  New York   \n",
      "1204  9774      13.76        NaN       13.76   1612.84      36  New York   \n",
      "1205  9779       3.03      19.70       11.36    163.44      36  New York   \n",
      "\n",
      "                                               geometry  \n",
      "0     POLYGON ((-74.00129 40.71992, -74.00061 40.719...  \n",
      "1     POLYGON ((-74.0032 40.71654, -74.00265 40.7163...  \n",
      "2     POLYGON ((-74.01415 40.70324, -74.01342 40.703...  \n",
      "3     POLYGON ((-73.98974 40.71924, -73.98924 40.720...  \n",
      "4     POLYGON ((-74.00941 40.72351, -74.00816 40.723...  \n",
      "...                                                 ...  \n",
      "1201  POLYGON ((-73.97463 40.72411, -73.97467 40.724...  \n",
      "1202  POLYGON ((-73.98495 40.71911, -73.98436 40.718...  \n",
      "1203  POLYGON ((-73.98495 40.71911, -73.98436 40.718...  \n",
      "1204  POLYGON ((-73.99154 40.71045, -73.99173 40.710...  \n",
      "1205  POLYGON ((-74.0034 40.72366, -74.00328 40.7235...  \n",
      "\n",
      "[1206 rows x 8 columns]\n",
      "15.454691136974038\n",
      "       fid  height_MS  height_FM  height_avg  SQMETERS STATEFP      NAME  \\\n",
      "1        4      23.62      46.18       34.90   3287.84      36  New York   \n",
      "2        5      19.98     109.60       64.79   2011.21      36  New York   \n",
      "3        9      18.50      18.18       18.34   3110.32      36  New York   \n",
      "4       34      21.53      32.84       27.18   5240.89      36  New York   \n",
      "5       38      18.84        NaN       18.84   1151.88      36  New York   \n",
      "...    ...        ...        ...         ...       ...     ...       ...   \n",
      "1196  9714      19.90      19.15       19.52   1230.57      36  New York   \n",
      "1198  9752      19.35        NaN       19.35   4080.25      36  New York   \n",
      "1199  9754      24.11      47.47       35.79   7137.13      36  New York   \n",
      "1200  9756      16.20      15.17       15.68    166.41      36  New York   \n",
      "1201  9764      26.54      22.30       24.42    696.24      36  New York   \n",
      "\n",
      "                                               geometry  \n",
      "1     POLYGON ((-74.0032 40.71654, -74.00265 40.7163...  \n",
      "2     POLYGON ((-74.01415 40.70324, -74.01342 40.703...  \n",
      "3     POLYGON ((-73.98974 40.71924, -73.98924 40.720...  \n",
      "4     POLYGON ((-74.00941 40.72351, -74.00816 40.723...  \n",
      "5     POLYGON ((-74.01574 40.70672, -74.01537 40.706...  \n",
      "...                                                 ...  \n",
      "1196  POLYGON ((-73.98328 40.71861, -73.9826 40.7184...  \n",
      "1198  POLYGON ((-73.99528 40.70245, -73.99568 40.702...  \n",
      "1199  POLYGON ((-74.00084 40.71547, -74.00075 40.715...  \n",
      "1200  POLYGON ((-73.99054 40.71271, -73.99045 40.712...  \n",
      "1201  POLYGON ((-73.97463 40.72411, -73.97467 40.724...  \n",
      "\n",
      "[524 rows x 8 columns]\n"
     ]
    }
   ],
   "source": [
    "import geopandas as gpd\n",
    "import matplotlib.pyplot as plt\n",
    "\n",
    "#1\n",
    "nyc_buildings = gpd.read_file('https://github.com/opengeos/datasets/releases/download/places/nyc_buildings.geojson')\n",
    "print(nyc_buildings)\n",
    "# #2\n",
    "# nyc_buildings.plot(\"height_MS\", legend=True, figsize=(10, 6))\n",
    "\n",
    "# #3\n",
    "nyc_buildings.explore(\"height_MS\", legend=True, figsize=(10, 6))\n",
    "\n",
    "#4\n",
    "avg_height = nyc_buildings['height_MS'].mean()\n",
    "print(avg_height)\n",
    "\n",
    "#5\n",
    "gta = nyc_buildings[nyc_buildings['height_MS'] > avg_height]\n",
    "\n",
    "print(gta)\n",
    "\n",
    "#6"
   ]
  },
  {
   "cell_type": "markdown",
   "metadata": {},
   "source": [
    "## Exercise 4: Combining NumPy, Pandas, and GeoPandas\n",
    "\n",
    "This exercise requires you to combine the power of NumPy, Pandas, and GeoPandas to analyze and visualize spatial data.\n",
    "\n",
    "1. Use Pandas to load the world cities dataset from this URL: https://github.com/opengeos/datasets/releases/download/world/world_cities.csv\n",
    "2. Filter the dataset to include only cities with latitude values between -40 and 60 (i.e., cities located in the Northern Hemisphere or near the equator).\n",
    "3. Create a GeoDataFrame from the filtered dataset by converting the latitude and longitude into geometries.\n",
    "4. Reproject the GeoDataFrame to the Mercator projection (EPSG:3857).\n",
    "5. Calculate the distance (in meters) between each city and the city of Paris.\n",
    "6. Plot the cities on a world map, coloring the points by their distance from Paris."
   ]
  },
  {
   "cell_type": "code",
   "execution_count": 171,
   "metadata": {},
   "outputs": [
    {
     "name": "stdout",
     "output_type": "stream",
     "text": [
      "1224    POINT (-73.98 40.75)\n",
      "Name: geometry, dtype: geometry\n",
      "1241    POINT (2.333 48.867)\n",
      "Name: geometry, dtype: geometry\n",
      "        id            name country  latitude  longitude  population  \\\n",
      "0        1           Bombo     UGA   0.58330   32.53330       75000   \n",
      "1        2     Fort Portal     UGA   0.67100   30.27500       42670   \n",
      "2        3         Potenza     ITA  40.64200   15.79900       69060   \n",
      "3        4      Campobasso     ITA  41.56300   14.65600       50762   \n",
      "4        5           Aosta     ITA  45.73700    7.31500       34062   \n",
      "...    ...             ...     ...       ...        ...         ...   \n",
      "1244  1245  Rio de Janeiro     BRA -22.92502  -43.22502    11748000   \n",
      "1245  1246       Sao Paulo     BRA -23.55868  -46.62502    18845000   \n",
      "1246  1247          Sydney     AUS -33.92001  151.18518     4630000   \n",
      "1247  1248       Singapore     SGP   1.29303  103.85582     5183700   \n",
      "1248  1249       Hong Kong     CHN  22.30498  114.18501     7206000   \n",
      "\n",
      "                     geometry  paris_distance  \n",
      "0        POINT (32.533 0.583)             NaN  \n",
      "1        POINT (30.275 0.671)             NaN  \n",
      "2       POINT (15.799 40.642)             NaN  \n",
      "3       POINT (14.656 41.563)             NaN  \n",
      "4        POINT (7.315 45.737)             NaN  \n",
      "...                       ...             ...  \n",
      "1244  POINT (-43.225 -22.925)             NaN  \n",
      "1245  POINT (-46.625 -23.559)             NaN  \n",
      "1246   POINT (151.185 -33.92)             NaN  \n",
      "1247    POINT (103.856 1.293)             NaN  \n",
      "1248   POINT (114.185 22.305)             NaN  \n",
      "\n",
      "[1132 rows x 8 columns]\n"
     ]
    },
    {
     "name": "stderr",
     "output_type": "stream",
     "text": [
      "/tmp/ipykernel_470223/2630053295.py:23: UserWarning: The indices of the left and right GeoSeries' are not equal, and therefore they will be aligned (reordering and/or introducing missing values) before executing the operation. If this alignment is the desired behaviour, you can silence this warning by passing 'align=True'. If you don't want alignment and protect yourself of accidentally aligning, you can pass 'align=False'.\n",
      "  gdf['paris_distance'] = paris.distance(ny.geometry)\n"
     ]
    }
   ],
   "source": [
    "import pandas as pd\n",
    "import numpy as np\n",
    "import geopandas as gpd\n",
    "from shapely import Point\n",
    "\n",
    "cities = pd.read_csv('https://github.com/opengeos/datasets/releases/download/world/world_cities.csv')\n",
    "\n",
    "cities.head()\n",
    "\n",
    "lat_range = range(-40, 60)\n",
    "filter1 = cities[cities['latitude'] > -40]\n",
    "filtered = filter1[filter1['latitude'] < 60]\n",
    "\n",
    "gdf = gpd.GeoDataFrame(filtered, geometry=gpd.points_from_xy(filtered.longitude, filtered.latitude, crs='EPSG:3857'))\n",
    "paris = gdf[gdf['name'] == 'Paris']\n",
    "ny = gdf[gdf['name'] == 'New York']\n",
    "\n",
    "ny_point = Point(-73.98, 40.75)\n",
    "paris_point = Point(2.333, 48.867)\n",
    "\n",
    "print(ny.geometry)\n",
    "print(paris.geometry)\n",
    "gdf['paris_distance'] = paris.distance(ny.geometry)\n",
    "\n",
    "print(gdf)\n",
    "# print(ny_point.distance(paris_point))\n",
    "# print(gdf.geometry)\n",
    "# gdf[\"geometry\"].distance(gdf.geometry, align=True)\n",
    "# gdf.insert(loc=7, column='paris_distance', value=None)\n",
    "\n",
    "# print(gdf)\n",
    "\n",
    "# print(manhattan_centroid)\n",
    "# # Calculate the distance from each centroid to Manhattan's centroid\n",
    "# gdf[\"paris_distance\"] = gdf[\"geometry\"].distance(paris.geometry, align=True)\n",
    "# gdf[[\"centroid\", \"distance_to_manhattan\"]]\n",
    "# print(gdf)\n",
    "\n"
   ]
  }
 ],
 "metadata": {
  "kernelspec": {
   "display_name": "Python 3",
   "language": "python",
   "name": "python3"
  },
  "language_info": {
   "codemirror_mode": {
    "name": "ipython",
    "version": 3
   },
   "file_extension": ".py",
   "mimetype": "text/x-python",
   "name": "python",
   "nbconvert_exporter": "python",
   "pygments_lexer": "ipython3",
   "version": "3.12.6"
  }
 },
 "nbformat": 4,
 "nbformat_minor": 4
}
